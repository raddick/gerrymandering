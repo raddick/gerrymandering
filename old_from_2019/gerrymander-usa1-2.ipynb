{
 "cells": [
  {
   "cell_type": "code",
   "execution_count": 1,
   "metadata": {},
   "outputs": [
    {
     "name": "stdout",
     "output_type": "stream",
     "text": [
      "ok\n"
     ]
    }
   ],
   "source": [
    "import os\n",
    "import numpy as np\n",
    "from matplotlib import pyplot as plt\n",
    "#from shapely.ops import unary_union\n",
    "import pandas \n",
    "import geopandas\n",
    "import time\n",
    "\n",
    "thisyear = 2018\n",
    "\n",
    "script_dir = '/home/idies/workspace/Storage/raddick/jordanraddick.com/gerrymandering/'\n",
    "data_dir = '/home/idies/workspace/Storage/raddick/jordanraddick.com/gerrymandering/districts_with_data/'\n",
    "output_dir = data_dir\n",
    "\n",
    "acs5_dir = '/home/idies/workspace/Temporary/raddick/census_scratch/acs5/{0:.0f}/estimates/'.format(thisyear)\n",
    "shapefiledir = '/home/idies/workspace/Temporary/raddick/census_scratch/shapefiles/{0:.0f}/'.format(thisyear)\n",
    "extras_dir = '/home/idies/workspace/Storage/raddick/census/extras/'\n",
    "\n",
    "water_area_tol = 1 * 1000 * 1000\n",
    "overlap_area_tract_tol = 22000\n",
    "overlap_area_bg_tol = 4000\n",
    "#smallest tract in US is Cook County, Illinois Tract 307.02 (area = 22,094 m^2)\n",
    "#smallest block group in US is Miami-Dade County, FL, Census Tract 2703, block group 7 (area = 4,436 m^2)\n",
    "\n",
    "\n",
    "scale = 1\n",
    "map_buffer = 0.25 # extra room on each edge of the maps, in degres\n",
    "\n",
    "#plt.rc('axes', prop_cycle=default_cycler)\n",
    "\n",
    "color_cycle = ['#1f77b4', '#ff7f0e', '#2ca02c', '#d62728', '#9467bd', '#8c564b', '#e377c2', '#7f7f7f', '#bcbd22', '#17becf']\n",
    "color_cycle = color_cycle + color_cycle\n",
    "color_cycle = color_cycle + color_cycle\n",
    "\n",
    "debug = 1\n",
    "g = 0\n",
    "\n",
    "print('ok')"
   ]
  },
  {
   "cell_type": "markdown",
   "metadata": {},
   "source": [
    "# Get congressional district shapefiles\n",
    "\n",
    "WITH data on metro and city areas as a percentage of total district area.\n",
    "\n",
    "This assumes that you have already run <code>districts-cities.ipynb</code>."
   ]
  },
  {
   "cell_type": "code",
   "execution_count": 2,
   "metadata": {},
   "outputs": [
    {
     "name": "stdout",
     "output_type": "stream",
     "text": [
      "reading congressional districts with urban/rural area data...\n",
      "Fixing at-large districts by setting district number to 1...\n",
      "Read 435 districts in 2.2 seconds.\n"
     ]
    }
   ],
   "source": [
    "s = time.time()\n",
    "print('reading congressional districts with urban/rural area data...')\n",
    "cd_gdf = geopandas.read_file(data_dir+'cd116_with_areas_and_types_435.shp')\n",
    "\n",
    "print('Fixing at-large districts by setting district number to 1...')\n",
    "cd_gdf.loc[cd_gdf['CD116FP'] == 0, 'CD116FP'] = 1  # At-large districts will be called District 1\n",
    "\n",
    "cd_gdf = cd_gdf.rename(columns = {'pct_metro_': 'pct_metro_area', 'pct_city_a': 'pct_city_area'})\n",
    "cd_gdf.loc[:, 'CD116FP'] = cd_gdf['CD116FP'].apply(lambda x: int(x))\n",
    "cd_gdf = cd_gdf.set_index('GEOID')\n",
    "\n",
    "e = time.time()\n",
    "g = g + (e-s)\n",
    "print('Read {0:,.0f} districts in {1:,.1f} seconds.'.format(len(cd_gdf), e-s))\n",
    "#sorted(cd_gdf[cd_gdf['CD116FP'] == 0]['STUSAB'].tolist())\n"
   ]
  },
  {
   "cell_type": "markdown",
   "metadata": {},
   "source": [
    "## Load block groups (nationwide)"
   ]
  },
  {
   "cell_type": "code",
   "execution_count": 3,
   "metadata": {},
   "outputs": [
    {
     "name": "stdout",
     "output_type": "stream",
     "text": [
      "\tReading file 1 of 51...\n",
      "\tReading file 11 of 51...\n",
      "\tReading file 21 of 51...\n",
      "\tReading file 31 of 51...\n",
      "\tReading file 41 of 51...\n",
      "\tReading file 51 of 51...\n",
      "converting block group identifiers to numeric...\n",
      "assigning GEOID as index...\n",
      "Read 217,739 census block groups in 137.1 seconds!\n"
     ]
    },
    {
     "data": {
      "text/html": [
       "<div>\n",
       "<style scoped>\n",
       "    .dataframe tbody tr th:only-of-type {\n",
       "        vertical-align: middle;\n",
       "    }\n",
       "\n",
       "    .dataframe tbody tr th {\n",
       "        vertical-align: top;\n",
       "    }\n",
       "\n",
       "    .dataframe thead th {\n",
       "        text-align: right;\n",
       "    }\n",
       "</style>\n",
       "<table border=\"1\" class=\"dataframe\">\n",
       "  <thead>\n",
       "    <tr style=\"text-align: right;\">\n",
       "      <th>GEOID</th>\n",
       "      <th>15000US260992550004</th>\n",
       "    </tr>\n",
       "  </thead>\n",
       "  <tbody>\n",
       "    <tr>\n",
       "      <td>STATEFP</td>\n",
       "      <td>26</td>\n",
       "    </tr>\n",
       "    <tr>\n",
       "      <td>COUNTYFP</td>\n",
       "      <td>99</td>\n",
       "    </tr>\n",
       "    <tr>\n",
       "      <td>TRACTCE</td>\n",
       "      <td>2550</td>\n",
       "    </tr>\n",
       "    <tr>\n",
       "      <td>BLKGRPCE</td>\n",
       "      <td>4</td>\n",
       "    </tr>\n",
       "    <tr>\n",
       "      <td>NAMELSAD</td>\n",
       "      <td>Block Group 4</td>\n",
       "    </tr>\n",
       "    <tr>\n",
       "      <td>MTFCC</td>\n",
       "      <td>G5030</td>\n",
       "    </tr>\n",
       "    <tr>\n",
       "      <td>FUNCSTAT</td>\n",
       "      <td>S</td>\n",
       "    </tr>\n",
       "    <tr>\n",
       "      <td>ALAND</td>\n",
       "      <td>521285</td>\n",
       "    </tr>\n",
       "    <tr>\n",
       "      <td>AWATER</td>\n",
       "      <td>0</td>\n",
       "    </tr>\n",
       "    <tr>\n",
       "      <td>INTPTLAT</td>\n",
       "      <td>+42.5363180</td>\n",
       "    </tr>\n",
       "    <tr>\n",
       "      <td>INTPTLON</td>\n",
       "      <td>-082.9154719</td>\n",
       "    </tr>\n",
       "    <tr>\n",
       "      <td>geometry</td>\n",
       "      <td>POLYGON ((-82.919668 42.538798, -82.919662 42....</td>\n",
       "    </tr>\n",
       "  </tbody>\n",
       "</table>\n",
       "</div>"
      ],
      "text/plain": [
       "GEOID                                   15000US260992550004\n",
       "STATEFP                                                  26\n",
       "COUNTYFP                                                 99\n",
       "TRACTCE                                                2550\n",
       "BLKGRPCE                                                  4\n",
       "NAMELSAD                                      Block Group 4\n",
       "MTFCC                                                 G5030\n",
       "FUNCSTAT                                                  S\n",
       "ALAND                                                521285\n",
       "AWATER                                                    0\n",
       "INTPTLAT                                        +42.5363180\n",
       "INTPTLON                                       -082.9154719\n",
       "geometry  POLYGON ((-82.919668 42.538798, -82.919662 42...."
      ]
     },
     "execution_count": 3,
     "metadata": {},
     "output_type": "execute_result"
    }
   ],
   "source": [
    "s = time.time()\n",
    "bg_file_list = [shapefiledir+'BG/'+x for x in os.listdir(shapefiledir+'BG/') if ((x[-4:] == '.shp'))]\n",
    "bg_gdf = geopandas.GeoDataFrame()\n",
    "\n",
    "for i in range(0, len(bg_file_list)):\n",
    "    if (debug >= 1):\n",
    "        if ((np.mod(i,10) == 0) | (i == len(bg_file_list)-1)):\n",
    "            print('\\tReading file {0:,.0f} of {1:,.0f}...'.format(i+1, len(bg_file_list)))\n",
    "    bg_gdf_i = geopandas.read_file(bg_file_list[i])\n",
    "    bg_gdf = pandas.concat((bg_gdf, bg_gdf_i), axis=0, sort=False)\n",
    "\n",
    "print('converting block group identifiers to numeric...')\n",
    "bg_gdf.loc[:, 'STATEFP'] = pandas.to_numeric(bg_gdf['STATEFP'], errors='coerce')\n",
    "bg_gdf.loc[:, 'COUNTYFP'] = pandas.to_numeric(bg_gdf['COUNTYFP'], errors='coerce')\n",
    "bg_gdf.loc[:, 'TRACTCE'] = pandas.to_numeric(bg_gdf['TRACTCE'].apply(lambda x: x[0:4]+'.'+x[4:]), errors='coerce')\n",
    "bg_gdf.loc[:, 'BLKGRPCE'] = pandas.to_numeric(bg_gdf['BLKGRPCE'], errors='coerce')\n",
    "\n",
    "#bg_gdf.loc[:, 'NAME'] = pandas.to_numeric(tract_gdf['NAME'], errors='coerce')\n",
    "# bg_gdf = tract_gdf.sort_values(by='NAME')\n",
    "\n",
    "print('assigning GEOID as index...')\n",
    "bg_gdf.loc[:, 'GEOID'] = bg_gdf['GEOID'].apply(lambda x: '15000US'+str(x))\n",
    "bg_gdf = bg_gdf.set_index('GEOID')\n",
    "\n",
    "e = time.time()\n",
    "g = g + (e-s)\n",
    "if (debug >= 1):\n",
    "    print('Read {0:,.0f} census block groups in {1:,.1f} seconds!'.format(len(bg_gdf), e-s))\n",
    "\n",
    "bg_gdf.sample(1).T\n"
   ]
  },
  {
   "cell_type": "markdown",
   "metadata": {},
   "source": [
    "# Get state and county names for convenience"
   ]
  },
  {
   "cell_type": "code",
   "execution_count": 4,
   "metadata": {},
   "outputs": [
    {
     "name": "stdout",
     "output_type": "stream",
     "text": [
      "looking up state names from numbers...\n",
      "looking up county names from numbers...\n",
      "Added state and county names in 17.2 seconds!\n"
     ]
    }
   ],
   "source": [
    "s = time.time()\n",
    "\n",
    "print('looking up state names from numbers...')\n",
    "state_codes_df = pandas.read_csv(extras_dir+'statecodes.csv')\n",
    "state_codes_df = state_codes_df.rename(columns={'STATE': 'STATEFP'})\n",
    "bg_gdf = bg_gdf.reset_index().merge(state_codes_df, how='left', on='STATEFP').set_index('GEOID')\n",
    "\n",
    "\n",
    "print('looking up county names from numbers...')\n",
    "county_names_df = pandas.read_excel(extras_dir+'all-geocodes-v2019.xlsx', header=4)\n",
    "county_names_df = county_names_df[county_names_df['Summary Level'] == 50]\n",
    "county_names_df = county_names_df.rename(columns={'State Code (FIPS)': 'STATEFP', 'County Code (FIPS)': 'COUNTYFP', 'Area Name (including legal/statistical area description)': 'COUNTY_NAME' })\n",
    "#tract_gdf = tract_gdf.reset_index().merge(county_names_df[['STATEFP', 'COUNTYFP', 'COUNTY_NAME']], how='left', on=['STATEFP', 'COUNTYFP']).set_index('GEOID')\n",
    "bg_gdf = bg_gdf.reset_index().merge(county_names_df[['STATEFP', 'COUNTYFP', 'COUNTY_NAME']], how='left', on=['STATEFP', 'COUNTYFP']).set_index('GEOID')\n",
    "\n",
    "e = time.time()\n",
    "g = g + (e-s)\n",
    "print('Added state and county names in {0:,.1f} seconds!'.format(e-s))\n"
   ]
  },
  {
   "cell_type": "markdown",
   "metadata": {},
   "source": [
    "## Get population data, and join onto shapefiles"
   ]
  },
  {
   "cell_type": "code",
   "execution_count": 5,
   "metadata": {},
   "outputs": [
    {
     "name": "stdout",
     "output_type": "stream",
     "text": [
      "reading ACS5 census data for 2018...\n",
      "joining population data onto block group shapefiles...\n",
      "\n",
      "added ACS5 census data to 217,739 block groups in 4 seconds!\n"
     ]
    }
   ],
   "source": [
    "s = time.time()\n",
    "print('reading ACS5 census data for {0:.0f}...'.format(thisyear))\n",
    "acs5_estimates_df = pandas.read_csv(acs5_dir+'estimates_acs{0:}_tract_bg_gerrymandering.csv'.format(thisyear), index_col='GEOID')\n",
    "\n",
    "print('joining population data onto block group shapefiles...')\n",
    "bg_gdf = bg_gdf.join(acs5_estimates_df[['B01001_001', 'Geography Name']], how='left')\n",
    "bg_gdf = bg_gdf.rename(columns={'B01001_001': 'total_population'})\n",
    "\n",
    "e = time.time()\n",
    "g = g + (e-s)\n",
    "print('\\nadded ACS5 census data to {0:,.0f} block groups in {1:,.0f} seconds!'.format(len(bg_gdf), e-s))\n"
   ]
  },
  {
   "cell_type": "markdown",
   "metadata": {},
   "source": [
    "# Geo-match congressional districts\n",
    "\n",
    "If a tract overlaps with only one district, match that tract to its district.\n",
    "If it overlaps multiple districts, divide into block groups and match each block group to its matching districts."
   ]
  },
  {
   "cell_type": "markdown",
   "metadata": {},
   "source": [
    "# Geo-match block groups to the congressional districts they are in"
   ]
  },
  {
   "cell_type": "markdown",
   "metadata": {},
   "source": [
    "## Create a new dataframe to hold block groups + matching districts"
   ]
  },
  {
   "cell_type": "code",
   "execution_count": 6,
   "metadata": {},
   "outputs": [
    {
     "name": "stdout",
     "output_type": "stream",
     "text": [
      "Assigning variables to hold information about matches...\n",
      "Assigning variable to hold matching district...\n",
      "Done in 0 seconds!\n",
      "GRAND TOTAL TIME: 2 minutes 40 seconds!\n"
     ]
    }
   ],
   "source": [
    "s = time.time()\n",
    "\n",
    "assembler_gdf = pandas.DataFrame(data=None, columns=bg_gdf.columns)\n",
    "\n",
    "print('Assigning variables to hold information about matches...')\n",
    "assembler_gdf = assembler_gdf.assign(congressional_districts_bitmask_numeral = np.nan)\n",
    "assembler_gdf = assembler_gdf.assign(congressional_districts_bitmask = np.nan)\n",
    "assembler_gdf = assembler_gdf.assign(nDistricts = np.nan)\n",
    "\n",
    "print('Assigning variable to hold matching district...')\n",
    "assembler_gdf = assembler_gdf.assign(block_based_district = np.nan)\n",
    "\n",
    "e = time.time()\n",
    "g = g + (e-s)\n",
    "\n",
    "print('Done in {0:,.0f} seconds!'.format(e-s))\n",
    "print('GRAND TOTAL TIME: {0:,.0f} minutes {1:,.0f} seconds!'.format(np.floor(g/60), np.floor(g%60)))\n"
   ]
  },
  {
   "cell_type": "markdown",
   "metadata": {},
   "source": [
    "## States with only one district\n",
    "\n",
    "These are easy, everyone is in District 1."
   ]
  },
  {
   "cell_type": "code",
   "execution_count": 7,
   "metadata": {},
   "outputs": [
    {
     "name": "stdout",
     "output_type": "stream",
     "text": [
      "creating new dataframe to hold matches...\n",
      "setting all block groups to District 1 for all single-district states...\n",
      "backing up...\n",
      "Assigned districts for 4,108 block groups in 0.2 seconds!\n"
     ]
    }
   ],
   "source": [
    "s = time.time()\n",
    "single_district_states = ['AK', 'DE', 'MT', 'ND', 'SD', 'VT', 'WY']\n",
    "\n",
    "print('creating new dataframe to hold matches...')\n",
    "assembler_gdf = pandas.DataFrame()\n",
    "\n",
    "print('setting all block groups to District 1 for all single-district states...')\n",
    "\n",
    "assembler_i_gdf = bg_gdf[bg_gdf['STUSAB'].isin(single_district_states)]\n",
    "assembler_i_gdf = assembler_i_gdf.assign(congressional_districts_bitmask_values = 1)\n",
    "assembler_i_gdf = assembler_i_gdf.assign(congressional_districts_bitmask = 'x1')\n",
    "assembler_i_gdf = assembler_i_gdf.assign(nDistricts = 1)\n",
    "assembler_i_gdf = assembler_i_gdf.assign(block_based_district = 1)\n",
    "\n",
    "assembler_gdf = pandas.concat((assembler_gdf, assembler_i_gdf), axis=0, sort=False)\n",
    "\n",
    "print('backing up...')\n",
    "bg_gdf_bk = bg_gdf\n",
    "assembler_gdf_bk = assembler_gdf\n",
    "\n",
    "e = time.time()\n",
    "g = g + (e-s)\n",
    "\n",
    "print('Assigned districts for {0:,.0f} block groups in {1:,.1f} seconds!'.format(len(assembler_gdf), e-s))\n"
   ]
  },
  {
   "cell_type": "markdown",
   "metadata": {},
   "source": [
    "## States with 2 or more districts\n",
    "\n",
    "These are harder, because first we have to know which block groups overlap multiple districts.\n",
    "\n",
    "Create a function to mark those."
   ]
  },
  {
   "cell_type": "markdown",
   "metadata": {},
   "source": [
    "### Create function to mark block groups with the districts they overlap"
   ]
  },
  {
   "cell_type": "code",
   "execution_count": 8,
   "metadata": {},
   "outputs": [
    {
     "name": "stdout",
     "output_type": "stream",
     "text": [
      "defined district-marking function!\n"
     ]
    }
   ],
   "source": [
    "def mark_block_groups_with_districts_bitmask_values(block_group_info_gdf, congressional_district_info_gdf, debug=0):    \n",
    "    working_with_state = block_group_info_gdf['STATE_NAME'].head(1).values[0]\n",
    "    \n",
    "    marked_s = pandas.Series()\n",
    "    \n",
    "    equal_area_crs = {'init': 'epsg:2163'}  # An equal area projection: https://epsg.io/2163\n",
    "    cnt = 0\n",
    "    if (debug > 0):    \n",
    "        print('\\tAssigning bitmask values to block groups in {0:}...'.format(working_with_state))\n",
    "    \n",
    "    for ix, thisrow in block_group_info_gdf.iterrows():    \n",
    "        bitmasker = 0\n",
    "        if (debug > 1):\n",
    "            print(ix)\n",
    "            print('\\t\\tMatching {0:}, {1:} census tract {2:}, block group {3:}...'.format(thisrow['STATE_NAME'], thisrow['COUNTY_NAME'], thisrow['TRACTCE'], thisrow['BLKGRPCE']))\n",
    "            print('\\n')\n",
    "        if ((np.mod(cnt,100) == 0) | (cnt == len(block_group_info_gdf) - 1)):\n",
    "            if (debug > 1):\n",
    "                print('\\t\\t\\tprocessing row {0:,.0f} of {1:,.0f}...'.format(cnt+1, len(bg_gdf[bg_gdf['STUSAB'] == this_state])))\n",
    "            else:\n",
    "                print('\\t\\tprocessing row {0:,.0f} of {1:,.0f}...'.format(cnt+1, len(bg_gdf[bg_gdf['STUSAB'] == this_state])))\n",
    "                \n",
    "        for jx, thatrow in congressional_district_info_gdf.iterrows():\n",
    "            if (thisrow.geometry.intersects(thatrow.geometry)):\n",
    "                this_district_overlap_area = block_group_info_gdf[block_group_info_gdf.index == ix].to_crs(equal_area_crs).geometry.values[0].intersection(congressional_district_info_gdf[congressional_district_info_gdf.index == jx].to_crs(equal_area_crs).geometry.values[0]).area\n",
    "                if (this_district_overlap_area >= overlap_area_bg_tol):\n",
    "                    bitmasker = bitmasker + 2**(thatrow['CD116FP']-1)\n",
    "                    if (debug > 1):\n",
    "                        print('\\t\\t\\t\\tIntersects District {0:.0f} with overlap area {1:,.1f} km^2...'.format(thatrow['CD116FP'], this_district_overlap_area/1000000))               \n",
    "        marked_s.loc[ix] = bitmasker\n",
    "        cnt = cnt + 1\n",
    "        \n",
    "    return marked_s\n",
    "print('defined district-marking function!')\n"
   ]
  },
  {
   "cell_type": "markdown",
   "metadata": {},
   "source": [
    "## Find block group / district overlaps, assign districts to non-overlapping block groups\n",
    "\n",
    "Uses function defined above"
   ]
  },
  {
   "cell_type": "code",
   "execution_count": 9,
   "metadata": {
    "scrolled": false
   },
   "outputs": [
    {
     "name": "stdout",
     "output_type": "stream",
     "text": [
      "getting from backup...\n",
      "\n",
      "\n",
      "Processing Hawaii...\n",
      "\tAssigning bitmask values to block groups in Hawaii...\n",
      "\t\tprocessing row 1 of 875...\n",
      "\t\tprocessing row 101 of 875...\n",
      "\t\tprocessing row 201 of 875...\n",
      "\t\tprocessing row 301 of 875...\n",
      "\t\tprocessing row 401 of 875...\n",
      "\t\tprocessing row 501 of 875...\n",
      "\t\tprocessing row 601 of 875...\n",
      "\t\tprocessing row 701 of 875...\n",
      "\t\tprocessing row 801 of 875...\n",
      "\t\tprocessing row 875 of 875...\n",
      "\tconverting bitmask values to human-readable bitmasks...\n",
      "\tcounting number of districts each block group overlaps...\n",
      "\tassigning congressional district to each block group with only one overlap...\n",
      "\t...-1 otherwise...\n",
      "\tjoining Hawaii to the rest of the assembler dataframe...\n",
      "\n",
      "\n",
      "matched districts for 875 block groups in HI in 0 minutes 28 seconds!\n",
      "\n",
      "\n",
      "Processing Idaho...\n",
      "\tAssigning bitmask values to block groups in Idaho...\n",
      "\t\tprocessing row 1 of 963...\n",
      "\t\tprocessing row 101 of 963...\n",
      "\t\tprocessing row 201 of 963...\n",
      "\t\tprocessing row 301 of 963...\n",
      "\t\tprocessing row 401 of 963...\n",
      "\t\tprocessing row 501 of 963...\n",
      "\t\tprocessing row 601 of 963...\n",
      "\t\tprocessing row 701 of 963...\n",
      "\t\tprocessing row 801 of 963...\n",
      "\t\tprocessing row 901 of 963...\n",
      "\t\tprocessing row 963 of 963...\n",
      "\tconverting bitmask values to human-readable bitmasks...\n",
      "\tcounting number of districts each block group overlaps...\n",
      "\tassigning congressional district to each block group with only one overlap...\n",
      "\t...-1 otherwise...\n",
      "\tjoining Idaho to the rest of the assembler dataframe...\n",
      "\n",
      "\n",
      "matched districts for 963 block groups in ID in 3 minutes 51 seconds!\n",
      "\n",
      "\n",
      "Processing Maine...\n",
      "\tAssigning bitmask values to block groups in Maine...\n",
      "\t\tprocessing row 1 of 1,086...\n",
      "\t\tprocessing row 101 of 1,086...\n",
      "\t\tprocessing row 201 of 1,086...\n",
      "\t\tprocessing row 301 of 1,086...\n",
      "\t\tprocessing row 401 of 1,086...\n",
      "\t\tprocessing row 501 of 1,086...\n",
      "\t\tprocessing row 601 of 1,086...\n",
      "\t\tprocessing row 701 of 1,086...\n",
      "\t\tprocessing row 801 of 1,086...\n",
      "\t\tprocessing row 901 of 1,086...\n",
      "\t\tprocessing row 1,001 of 1,086...\n",
      "\t\tprocessing row 1,086 of 1,086...\n",
      "\tconverting bitmask values to human-readable bitmasks...\n",
      "\tcounting number of districts each block group overlaps...\n",
      "\tassigning congressional district to each block group with only one overlap...\n",
      "\t...-1 otherwise...\n",
      "\tjoining Maine to the rest of the assembler dataframe...\n",
      "\n",
      "\n",
      "matched districts for 1,086 block groups in ME in 3 minutes 12 seconds!\n",
      "\n",
      "\n",
      "Processing New Hampshire...\n",
      "\tAssigning bitmask values to block groups in New Hampshire...\n",
      "\t\tprocessing row 1 of 922...\n",
      "\t\tprocessing row 101 of 922...\n",
      "\t\tprocessing row 201 of 922...\n",
      "\t\tprocessing row 301 of 922...\n",
      "\t\tprocessing row 401 of 922...\n",
      "\t\tprocessing row 501 of 922...\n",
      "\t\tprocessing row 601 of 922...\n",
      "\t\tprocessing row 701 of 922...\n",
      "\t\tprocessing row 801 of 922...\n",
      "\t\tprocessing row 901 of 922...\n",
      "\t\tprocessing row 922 of 922...\n",
      "\tconverting bitmask values to human-readable bitmasks...\n",
      "\tcounting number of districts each block group overlaps...\n",
      "\tassigning congressional district to each block group with only one overlap...\n",
      "\t...-1 otherwise...\n",
      "\tjoining New Hampshire to the rest of the assembler dataframe...\n",
      "\n",
      "\n",
      "matched districts for 922 block groups in NH in 2 minutes 16 seconds!\n",
      "\n",
      "\n",
      "Processing Rhode Island...\n",
      "\tAssigning bitmask values to block groups in Rhode Island...\n",
      "\t\tprocessing row 1 of 815...\n",
      "\t\tprocessing row 101 of 815...\n",
      "\t\tprocessing row 201 of 815...\n",
      "\t\tprocessing row 301 of 815...\n",
      "\t\tprocessing row 401 of 815...\n",
      "\t\tprocessing row 501 of 815...\n",
      "\t\tprocessing row 601 of 815...\n",
      "\t\tprocessing row 701 of 815...\n",
      "\t\tprocessing row 801 of 815...\n",
      "\t\tprocessing row 815 of 815...\n",
      "\tconverting bitmask values to human-readable bitmasks...\n",
      "\tcounting number of districts each block group overlaps...\n",
      "\tassigning congressional district to each block group with only one overlap...\n",
      "\t...-1 otherwise...\n",
      "\tjoining Rhode Island to the rest of the assembler dataframe...\n",
      "\n",
      "\n",
      "matched districts for 815 block groups in RI in 0 minutes 25 seconds!\n",
      "GRAND TOTAL TIME: 12 minutes 55 seconds!\n"
     ]
    },
    {
     "data": {
      "text/plain": [
       "congressional_districts_bitmask\n",
       "x01    393\n",
       "x10    409\n",
       "x11     13\n",
       "dtype: int64"
      ]
     },
     "execution_count": 9,
     "metadata": {},
     "output_type": "execute_result"
    }
   ],
   "source": [
    "s = time.time()\n",
    "\n",
    "print('getting from backup...')\n",
    "bg_gdf = bg_gdf_bk\n",
    "assembler_gdf = assembler_gdf_bk\n",
    "\n",
    "e = time.time()\n",
    "g = g + (e-s)\n",
    "\n",
    "for this_state in ['HI', 'ID', 'ME', 'NH', 'RI']:\n",
    "    s = time.time()\n",
    "    state_full_name = bg_gdf[bg_gdf['STUSAB'] == this_state]['STATE_NAME'].values[0]\n",
    "    print('\\n')\n",
    "    print('Processing {0:}...'.format(state_full_name))\n",
    "    assembler_i_gdf = bg_gdf[bg_gdf['STUSAB'] == this_state]\n",
    "\n",
    "    district_bitmask_values_s = mark_block_groups_with_districts_bitmask_values(\n",
    "        bg_gdf[bg_gdf['STUSAB'] == this_state][['STATE_NAME', 'COUNTY_NAME', 'TRACTCE', 'BLKGRPCE', 'total_population', 'geometry']], \n",
    "        cd_gdf[cd_gdf['STUSAB'] == this_state][['STUSAB', 'CD116FP', 'geometry']], \n",
    "        debug\n",
    "    )\n",
    "    assembler_i_gdf = assembler_i_gdf.assign(congressional_districts_bitmask_values = district_bitmask_values_s)\n",
    "    \n",
    "    \n",
    "    if (debug > 0):\n",
    "        print('\\tconverting bitmask values to human-readable bitmasks...')        \n",
    "    nDistrictsForBitmaskeration = cd_gdf[cd_gdf['STUSAB'] == this_state]['CD116FP'].max()\n",
    "    assembler_i_gdf = assembler_i_gdf.assign(congressional_districts_bitmask = \n",
    "                                             assembler_i_gdf['congressional_districts_bitmask_values'].apply(lambda x: 'x'+np.binary_repr(int(x)).zfill(nDistrictsForBitmaskeration)[::-1])\n",
    "                                            )\n",
    "\n",
    "    if (debug > 0):\n",
    "        print('\\tcounting number of districts each block group overlaps...')        \n",
    "    \n",
    "    assembler_i_gdf = assembler_i_gdf.assign(nDistricts = \n",
    "                                             assembler_i_gdf['congressional_districts_bitmask'].apply(lambda x: x[1:].count(\"1\"))\n",
    "                                            )\n",
    "    if (debug > 0):\n",
    "        print('\\tassigning congressional district to each block group with only one overlap...')\n",
    "        \n",
    "    assembler_i_gdf = assembler_i_gdf.assign(block_based_district = np.nan)\n",
    "    assembler_i_gdf.loc[\n",
    "        assembler_i_gdf['nDistricts'] == 1, \n",
    "        'block_based_district'] = assembler_i_gdf[\n",
    "                        assembler_i_gdf['nDistricts'] == 1\n",
    "                    ]['congressional_districts_bitmask'].apply(lambda x: x.find(\"1\"))\n",
    "    \n",
    "    print('\\t...-1 otherwise...')\n",
    "    assembler_i_gdf.loc[assembler_i_gdf['nDistricts'] > 1, 'block_based_district'] = -1\n",
    "    \n",
    "    if (debug > 0):\n",
    "        print('\\tjoining {0:} to the rest of the assembler dataframe...'.format(state_full_name))\n",
    "    assembler_gdf = pandas.concat((assembler_gdf, assembler_i_gdf), axis=0, sort=False)\n",
    "    if (debug > 0):\n",
    "        print(\"\\n\")\n",
    "    e = time.time()\n",
    "    g = g + (e-s)\n",
    "\n",
    "    print('matched districts for {0:,.0f} block groups in {1:} in {2:,.0f} minutes {3:,.0f} seconds!'.format(len(assembler_i_gdf), this_state, np.floor((e-s)/60), np.floor((e-s)%60)))\n",
    "    \n",
    "print('GRAND TOTAL TIME: {0:,.0f} minutes {1:,.0f} seconds!'.format(np.floor(g/60), np.floor(g%60)))\n",
    "\n",
    "# print(assembler_gdf.groupby('STUSAB').size())\n",
    "# print(assembler_gdf.groupby(['STUSAB', 'nDistricts']).size())\n",
    "# print(assembler_gdf.groupby(['STUSAB', 'CD116']).size())\n",
    "# assembler_gdf.sample(2).T\n",
    "\n",
    "assembler_gdf[assembler_gdf['STUSAB'] == this_state].groupby('congressional_districts_bitmask').size()\n"
   ]
  },
  {
   "cell_type": "markdown",
   "metadata": {},
   "source": [
    "## Assign districts to block groups that overlap multiple districts\n",
    "\n",
    "See examination sections below"
   ]
  },
  {
   "cell_type": "code",
   "execution_count": 10,
   "metadata": {},
   "outputs": [
    {
     "name": "stdout",
     "output_type": "stream",
     "text": [
      "Assigning districts based on examination to block groups that overlap multiple districts...\n",
      "backing up again...\n",
      "nDistricts\n",
      "1    8745\n",
      "2      24\n",
      "dtype: int64\n",
      "STUSAB  block_based_district\n",
      "AK      1.0                     534\n",
      "DE      1.0                     574\n",
      "HI      1.0                     422\n",
      "        2.0                     453\n",
      "ID      1.0                     434\n",
      "        2.0                     529\n",
      "ME      1.0                     522\n",
      "        2.0                     564\n",
      "MT      1.0                     842\n",
      "ND      1.0                     572\n",
      "NH      1.0                     454\n",
      "        2.0                     468\n",
      "RI      1.0                     417\n",
      "        2.0                     398\n",
      "SD      1.0                     654\n",
      "VT      1.0                     522\n",
      "WY      1.0                     410\n",
      "dtype: int64\n"
     ]
    }
   ],
   "source": [
    "print('Assigning districts based on examination to block groups that overlap multiple districts...')\n",
    "\n",
    "# HAWAII\n",
    "####  block groups with zero population are all water, belong to district 2 (outlying)\n",
    "assembler_gdf.loc[['15000US150039900010','15000US150039807001'], 'block_based_district'] = 2\n",
    "####  assigned these values by examination\n",
    "assembler_gdf.loc['15000US150030001102', 'block_based_district'] = 1 # Honolulu County tract 1.10, BG 2\n",
    "assembler_gdf.loc['15000US150030089241', 'block_based_district'] = 2 # Honolulu County tract 89.24, BG 1\n",
    "\n",
    "# IDAHO\n",
    "assembler_gdf.loc['15000US160010105031', 'block_based_district'] = 2 # Ada County tract 105.03 bg 1 \n",
    "# ADA COUNTY tract 21.00 BG 1; 24.12 BG 1; 102.25 BG 1; 22.23 BG 1; 22.24 BG 1,3\n",
    "assembler_gdf.loc[['15000US160010105031', '15000US160010021001','15000US160010024121','15000US160010102251','15000US160010022231','15000US160010022241','15000US160010022243'], \n",
    "                  'block_based_district'] = 1\n",
    "# Fix to keep districts contiguous and aligned with actual districts\n",
    "assembler_gdf.loc['15000US160010105031', 'block_based_district'] = 2\n",
    "\n",
    "\n",
    "# RHODE ISLAND\n",
    "assembler_gdf.loc['15000US440070001024', 'block_based_district'] = 2\n",
    "assembler_gdf.loc[['15000US440070001022','15000US440070014005','15000US440070012002','15000US440070013002'], 'block_based_district'] = 1\n",
    "assembler_gdf.loc[['15000US440070031004', '15000US440070031005', '15000US440070004001', '15000US440070006002'], 'block_based_district'] = 1\n",
    "assembler_gdf.loc[['15000US440070008001', '15000US440070008002', '15000US440070008003', '15000US440070006001'], 'block_based_district'] = 2\n",
    "\n",
    "\n",
    "print(\"backing up again...\")\n",
    "assembler_gdf_bk2 = assembler_gdf\n",
    "\n",
    "e = time.time()\n",
    "g = g + (e-s)\n",
    "\n",
    "#print('Grand total time: {0:,.0f} minutes {1:,.0f} seconds!'.format(np.floor(g/60), np.floor(g%60)))\n",
    "\n",
    "print(assembler_gdf.groupby('nDistricts').size())\n",
    "print(assembler_gdf.groupby(['STUSAB', 'block_based_district']).size())\n"
   ]
  },
  {
   "cell_type": "code",
   "execution_count": 11,
   "metadata": {},
   "outputs": [
    {
     "name": "stdout",
     "output_type": "stream",
     "text": [
      "matched districts for 8,769 block groups in 0 minutes 0 seconds!\n",
      "GRAND TOTAL TIME: 20  minutes 47 seconds!\n"
     ]
    }
   ],
   "source": [
    "s = time.time()\n",
    "pandas.DataFrame(assembler_gdf[[x for x in assembler_gdf.columns if x != 'geometry']]\n",
    "                ).to_csv(output_dir+'block_group_with_district_1_2.csv', encoding='utf-8')\n",
    "e = time.time()\n",
    "g = g + (e-s)\n",
    "\n",
    "print('matched districts for {0:,.0f} block groups in {1:,.0f} minutes {2:,.0f} seconds!'.format(len(assembler_gdf), np.floor((e-s)/60), np.floor((e-s)%60)))\n",
    "\n",
    "print('GRAND TOTAL TIME: {0:,.0f}  minutes {1:,.0f} seconds!'.format(np.floor(g/60), np.floor(g%60)))\n"
   ]
  },
  {
   "cell_type": "code",
   "execution_count": 12,
   "metadata": {
    "scrolled": false
   },
   "outputs": [
    {
     "name": "stdout",
     "output_type": "stream",
     "text": [
      "\tReading file 1 of 51...\n",
      "\tReading file 11 of 51...\n",
      "\tReading file 21 of 51...\n",
      "\tReading file 31 of 51...\n",
      "\tReading file 41 of 51...\n",
      "\tReading file 51 of 51...\n",
      "done in 151.8 seconds\n",
      "converting block group identifiers to numeric...\n",
      "assigning GEOID as index...\n",
      "done in 6.3 seconds\n"
     ]
    }
   ],
   "source": [
    "s = time.time()\n",
    "z = pandas.read_csv(output_dir+'block_group_with_district_1_2.csv', index_col='GEOID')\n",
    "bg_file_list = [shapefiledir+'BG/'+x for x in os.listdir(shapefiledir+'BG/') if ((x[-4:] == '.shp'))]\n",
    "bg_gdf = geopandas.GeoDataFrame()\n",
    "for i in range(0, len(bg_file_list)):\n",
    "    if (debug >= 1):\n",
    "        if ((np.mod(i,10) == 0) | (i == len(bg_file_list)-1)):\n",
    "            print('\\tReading file {0:,.0f} of {1:,.0f}...'.format(i+1, len(bg_file_list)))\n",
    "    bg_gdf_i = geopandas.read_file(bg_file_list[i])\n",
    "    bg_gdf = pandas.concat((bg_gdf, bg_gdf_i), axis=0, sort=False)\n",
    "e = time.time()\n",
    "print('done in {0:,.1f} seconds'.format(e-s))\n",
    "\n",
    "\n",
    "s = time.time()\n",
    "print('converting block group identifiers to numeric...')\n",
    "bg_gdf.loc[:, 'STATEFP'] = pandas.to_numeric(bg_gdf['STATEFP'], errors='coerce')\n",
    "bg_gdf.loc[:, 'COUNTYFP'] = pandas.to_numeric(bg_gdf['COUNTYFP'], errors='coerce')\n",
    "bg_gdf.loc[:, 'TRACTCE'] = pandas.to_numeric(bg_gdf['TRACTCE'].apply(lambda x: str(x)[0:4]+'.'+str(x)[4:]), errors='coerce')\n",
    "bg_gdf.loc[:, 'BLKGRPCE'] = pandas.to_numeric(bg_gdf['BLKGRPCE'], errors='coerce')\n",
    "\n",
    "\n",
    "print('assigning GEOID as index...')\n",
    "bg_gdf.loc[:, 'GEOID'] = bg_gdf['GEOID'].apply(lambda x: '15000US'+str(x))#\n",
    "bg_gdf = bg_gdf.set_index('GEOID')\n",
    "\n",
    "newtestgdf = geopandas.GeoDataFrame(data=z.join(bg_gdf.geometry, how='left'), crs=bg_gdf.crs, geometry='geometry')\n",
    "\n",
    "e = time.time()\n",
    "print('done in {0:,.1f} seconds'.format(e-s))\n"
   ]
  },
  {
   "cell_type": "code",
   "execution_count": 14,
   "metadata": {},
   "outputs": [
    {
     "data": {
      "image/png": "[encoded data removed]",
      "text/plain": [
       "<Figure size 432x288 with 1 Axes>"
      ]
     },
     "metadata": {
      "needs_background": "light"
     },
     "output_type": "display_data"
    }
   ],
   "source": [
    "fig, ax = plt.subplots(1,1)\n",
    "newtestgdf.plot(ax=ax)\n",
    "plt.show()"
   ]
  },
  {
   "cell_type": "markdown",
   "metadata": {},
   "source": [
    "## Examine overlapping districts"
   ]
  },
  {
   "cell_type": "markdown",
   "metadata": {},
   "source": [
    "### RHODE ISLAND"
   ]
  },
  {
   "cell_type": "markdown",
   "metadata": {},
   "source": [
    "#### Get water areas"
   ]
  },
  {
   "cell_type": "code",
   "execution_count": null,
   "metadata": {},
   "outputs": [],
   "source": [
    "# s = time.time()\n",
    "\n",
    "# this_state = 'RI'\n",
    "# #print(state_codes_df)\n",
    "\n",
    "# if (debug >= 1):\n",
    "#     print('reading water shapefiles in {0:}...'.format(this_state))\n",
    "\n",
    "# #this_state_number = state_codes_df[state_codes_df['STUSAB'] == this_state.upper()].index.values[0]\n",
    "# this_state_number = 44\n",
    "\n",
    "# water_gdf = geopandas.GeoDataFrame()\n",
    "# water_file_list = [shapefiledir+'AREAWATER/'+x for x in os.listdir(shapefiledir+'AREAWATER/') if ((x[-4:] == '.shp') and ('tl_2018_{0:02d}'.format(this_state_number) in x))]\n",
    "\n",
    "# for i in range(0, len(water_file_list)):\n",
    "#     if (debug >= 1):\n",
    "#         if ((np.mod(i,10) == 0) | (i == len(water_file_list)-1)):\n",
    "#             print('\\tReading file {0:,.0f} of {1:,.0f}...'.format(i+1, len(water_file_list)))\n",
    "#     water_gdf_i = geopandas.read_file(water_file_list[i])\n",
    "#     #water_gdf_i = water_gdf_i[water_gdf_i['AWATER'] >= water_area_tol]\n",
    "#     water_gdf = pandas.concat((water_gdf, water_gdf_i), axis=0, sort=False)\n",
    "\n",
    "# water_gdf = water_gdf.set_index('HYDROID')\n",
    "# e = time.time()\n",
    "# g = g + (e-s)\n",
    "\n",
    "# if (debug >= 1):\n",
    "#     #print('Read {0:,.0f} bodies of water with area greater than or equal to {1:,.0f} km^2 in {2:,.0f} seconds!'.format(len(water_gdf), water_area_tol/(1000*1000), e-s))\n",
    "#     print('Read {0:,.0f} bodies of water in {1:,.0f} seconds!'.format(len(water_gdf), e-s))\n"
   ]
  },
  {
   "cell_type": "markdown",
   "metadata": {},
   "source": [
    "#### Read places"
   ]
  },
  {
   "cell_type": "code",
   "execution_count": null,
   "metadata": {},
   "outputs": [],
   "source": [
    "# s = time.time()\n",
    "\n",
    "# this_state = 'RI'\n",
    "# #print(state_codes_df)\n",
    "\n",
    "# if (debug >= 1):\n",
    "#     print('reading place shapefiles in {0:}...'.format(this_state))\n",
    "\n",
    "# #this_state_number = state_codes_df[state_codes_df['STUSAB'] == this_state.upper()].index.values[0]\n",
    "# this_state_number = 44\n",
    "\n",
    "# place_gdf = geopandas.GeoDataFrame()\n",
    "# place_file_list = [shapefiledir+'PLACE/'+x for x in os.listdir(shapefiledir+'PLACE/') if ((x[-4:] == '.shp') and ('tl_2018_{0:02d}'.format(this_state_number) in x))]\n",
    "\n",
    "# for i in range(0, len(place_file_list)):\n",
    "#     if (debug >= 1):\n",
    "#         if ((np.mod(i,10) == 0) | (i == len(water_file_list)-1)):\n",
    "#             print('\\tReading file {0:,.0f} of {1:,.0f}...'.format(i+1, len(place_file_list)))\n",
    "#     place_gdf_i = geopandas.read_file(place_file_list[i])\n",
    "    \n",
    "#     place_gdf = pandas.concat((place_gdf, place_gdf_i), axis=0, sort=False)\n",
    "\n",
    "# place_gdf = place_gdf.set_index('GEOID')\n",
    "# e = time.time()\n",
    "# g = g + (e-s)\n",
    "\n",
    "# if (debug >= 1):\n",
    "#     #print('Read {0:,.0f} bodies of water with area greater than or equal to {1:,.0f} km^2 in {2:,.0f} seconds!'.format(len(water_gdf), water_area_tol/(1000*1000), e-s))\n",
    "#     print('Read {0:,.0f} places in {1:,.1f} seconds!'.format(len(water_gdf), e-s))\n",
    "# #place_gdf.head(1)"
   ]
  },
  {
   "cell_type": "markdown",
   "metadata": {},
   "source": [
    "#### Overview"
   ]
  },
  {
   "cell_type": "code",
   "execution_count": null,
   "metadata": {},
   "outputs": [],
   "source": [
    "# print('getting from again-backup...')\n",
    "# assembler_gdf = assembler_gdf_bk2\n",
    "\n",
    "# this_state = 'RI'\n",
    "# fig, ax = plt.subplots(1,1,figsize=(12*scale,8*scale))\n",
    "\n",
    "# cd_gdf[(cd_gdf['STUSAB'] == this_state) & (cd_gdf['CD116FP'] == 1)].plot(ax=ax, color='red')\n",
    "# cd_gdf[(cd_gdf['STUSAB'] == this_state) & (cd_gdf['CD116FP'] == 2)].plot(ax=ax, color='green')\n",
    "\n",
    "# assembler_gdf[(assembler_gdf['STUSAB'] == this_state) & (assembler_gdf['nDistricts'] == 1)].plot(ax=ax, color='none', edgecolor='yellow', linewidth=0.5)\n",
    "# assembler_gdf[(assembler_gdf['STUSAB'] == this_state) & (assembler_gdf['nDistricts'] > 1)].plot(ax=ax, color='none', edgecolor='black', linewidth=2)\n",
    "\n",
    "# #water_gdf.plot(ax=ax, color='blue')\n",
    "# plt.show()\n"
   ]
  },
  {
   "cell_type": "markdown",
   "metadata": {},
   "source": [
    "#### Examining"
   ]
  },
  {
   "cell_type": "code",
   "execution_count": null,
   "metadata": {
    "scrolled": false
   },
   "outputs": [],
   "source": [
    "# print('getting from again-backup...')\n",
    "# assembler_gdf = assembler_gdf_bk2\n",
    "\n",
    "# print('calculating block group areas...')\n",
    "# equal_area_crs = {'init': 'epsg:2163'}  # An equal area projection: https://epsg.io/2163\n",
    "# assembler_gdf = assembler_gdf.assign(area_km2 = assembler_gdf.to_crs(equal_area_crs).geometry.area/1000000)\n",
    "\n",
    "# this_state = 'RI'\n",
    "# fig, ax = plt.subplots(1,1,figsize=(24*scale,16*scale))\n",
    "\n",
    "# cd_gdf[(cd_gdf['STUSAB'] == this_state) & (cd_gdf['CD116FP'] == 1)].plot(ax=ax, color='red', alpha=0.5)\n",
    "# cd_gdf[(cd_gdf['STUSAB'] == this_state) & (cd_gdf['CD116FP'] == 2)].plot(ax=ax, color='green', alpha=0.5)\n",
    "\n",
    "\n",
    "# assembler_gdf[\n",
    "#     (assembler_gdf['STUSAB'] == this_state) \n",
    "#     & (assembler_gdf['nDistricts'] == 1)\n",
    "#     & (assembler_gdf['COUNTY_NAME'] == 'Providence County')\n",
    "# ].plot(ax=ax, color='none', edgecolor='yellow', linewidth=0.5)\n",
    "\n",
    "# assembler_gdf[(assembler_gdf['STUSAB'] == this_state) & (assembler_gdf['nDistricts'] > 1)].plot(ax=ax, color='none', edgecolor='black', linewidth=4)\n",
    "\n",
    "# # # # add labels for those block groups\n",
    "# for ix, thisrow in assembler_gdf[\n",
    "#     (assembler_gdf['STUSAB'] == this_state) \n",
    "#     & (assembler_gdf['block_based_district'] == -1) \n",
    "# #    & (assembler_gdf['total_population'] > 0)\n",
    "# ].iterrows():\n",
    "#     annotator = ix[-4:]\n",
    "# #     annotator += '\\n'\n",
    "#     #annotator = thisrow['Geography Name'].replace(',',\"\\n\")\n",
    "#     #annotator = thisrow['block_based_district']\n",
    "\n",
    "#     plt.annotate(annotator, \n",
    "#                  (thisrow.geometry.centroid.x, thisrow.geometry.centroid.y), \n",
    "#                  (thisrow.geometry.centroid.x, thisrow.geometry.centroid.y), \n",
    "#                  color='black', backgroundcolor='white', fontsize=12*scale, ha='center'\n",
    "#                 )\n",
    "\n",
    "# # print('plotting places...')\n",
    "\n",
    "# place_gdf[place_gdf['NAME'] == 'Providence'].plot(ax=ax, color='none', edgecolor='purple', linewidth=4)\n",
    "\n",
    "# # for ix, thisrow in place_gdf[place_gdf['NAME'] == 'Boise City'].iterrows():\n",
    "# #     annotator = thisrow['NAME'].upper()\n",
    "# #     plt.annotate(annotator, \n",
    "# #                  (thisrow.geometry.centroid.x, thisrow.geometry.centroid.y), \n",
    "# #                  (thisrow.geometry.centroid.x, thisrow.geometry.centroid.y), \n",
    "# #                  color='purple', backgroundcolor='white', fontsize=14*scale, ha='center'\n",
    "# #                 )\n",
    "    \n",
    "    \n",
    "# print('plotting water...')\n",
    "# water_gdf.plot(ax=ax, color='blue')\n",
    "\n",
    "\n",
    "# # # Providence City\n",
    "# # plt.xlim([-71.48, -71.38])\n",
    "# # plt.ylim([41.77, 41.86])\n",
    "\n",
    "# # Providence City\n",
    "# plt.xlim([-71.43, -71.39])\n",
    "# plt.ylim([41.8, 41.85])\n",
    "\n",
    "\n",
    "# plt.show()\n",
    "\n",
    "# assembler_gdf[\n",
    "#     (assembler_gdf['STUSAB'] == this_state) \n",
    "#     & (assembler_gdf['block_based_district'] == -1)\n",
    "# ][\n",
    "#     ['STATE_NAME', 'COUNTY_NAME', 'TRACTCE', 'BLKGRPCE', 'area_km2', 'total_population']\n",
    "# ].sort_values('area_km2', ascending=False)\n",
    "\n"
   ]
  },
  {
   "cell_type": "markdown",
   "metadata": {},
   "source": [
    "### HAWAII"
   ]
  },
  {
   "cell_type": "code",
   "execution_count": null,
   "metadata": {
    "scrolled": false
   },
   "outputs": [],
   "source": [
    "# print('getting from again-backup...')\n",
    "# assembler_gdf = assembler_gdf_bk2\n",
    "\n",
    "# this_state = 'HI'\n",
    "# fig, ax = plt.subplots(1,1,figsize=(12*scale,8*scale))\n",
    "\n",
    "# # show districts\n",
    "# cd_gdf[(cd_gdf['STUSAB'] == this_state) & (cd_gdf['CD116FP'] == 1)].plot(ax=ax, color='red')\n",
    "# cd_gdf[(cd_gdf['STUSAB'] == this_state) & (cd_gdf['CD116FP'] == 2)].plot(ax=ax, color='green')\n",
    "\n",
    "# # show all block groups that overlap multiple districts\n",
    "# assembler_gdf[\n",
    "#     (assembler_gdf['STUSAB'] == this_state) \n",
    "#     & (assembler_gdf['nDistricts'] > 1) \n",
    "#     & (assembler_gdf['total_population'] > 0)\n",
    "# ].plot(ax=ax, color='none', edgecolor='black')\n",
    "\n",
    "# # add labels for those block groups\n",
    "# for ix, thisrow in assembler_gdf[\n",
    "#     (assembler_gdf['STUSAB'] == this_state) \n",
    "#     & (assembler_gdf['nDistricts'] > 1) \n",
    "#     & (assembler_gdf['total_population'] > 0)\n",
    "# ].iterrows():\n",
    "#     annotator = ix\n",
    "#     annotator += '\\n'\n",
    "#     annotator += thisrow['Geography Name'].replace(',',\"\\n\")\n",
    "#     #annotator = thisrow['block_based_district']\n",
    "\n",
    "#     plt.annotate(annotator, \n",
    "#                  (thisrow.geometry.centroid.x, thisrow.geometry.centroid.y), \n",
    "#                  (thisrow.geometry.centroid.x, thisrow.geometry.centroid.y - .14), \n",
    "#                  color='black', backgroundcolor='white', fontsize=12*scale, ha='center'\n",
    "#                 )\n",
    "# # All of Oahu\n",
    "# # plt.xlim([-158.5,-157.5])\n",
    "# # plt.ylim([21.2,21.9])\n",
    "# # Overlapping districts \n",
    "# plt.xlim([-158.2,-157.6])\n",
    "# plt.ylim([21.25,21.5])\n",
    "\n",
    "# plt.show()\n",
    "\n",
    "# # assembler_gdf[\n",
    "# #     (assembler_gdf['STUSAB'] == 'HI') \n",
    "# #     & (assembler_gdf['nDistricts'] > 1)\n",
    "# #     #& (assembler_gdf['total_population'] == 0)\n",
    "# # ]\n"
   ]
  },
  {
   "cell_type": "markdown",
   "metadata": {},
   "source": [
    "### IDAHO"
   ]
  },
  {
   "cell_type": "markdown",
   "metadata": {},
   "source": [
    "#### Read water areas"
   ]
  },
  {
   "cell_type": "code",
   "execution_count": null,
   "metadata": {},
   "outputs": [],
   "source": [
    "# s = time.time()\n",
    "\n",
    "# this_state = 'ID'\n",
    "# #print(state_codes_df)\n",
    "\n",
    "# if (debug >= 1):\n",
    "#     print('reading water shapefiles in {0:}...'.format(this_state))\n",
    "\n",
    "# #this_state_number = state_codes_df[state_codes_df['STUSAB'] == this_state.upper()].index.values[0]\n",
    "# this_state_number = 16\n",
    "\n",
    "# water_gdf = geopandas.GeoDataFrame()\n",
    "# water_file_list = [shapefiledir+'AREAWATER/'+x for x in os.listdir(shapefiledir+'AREAWATER/') if ((x[-4:] == '.shp') and ('tl_2018_{0:02d}'.format(this_state_number) in x))]\n",
    "\n",
    "# for i in range(0, len(water_file_list)):\n",
    "#     if (debug >= 1):\n",
    "#         if ((np.mod(i,10) == 0) | (i == len(water_file_list)-1)):\n",
    "#             print('\\tReading file {0:,.0f} of {1:,.0f}...'.format(i+1, len(water_file_list)))\n",
    "#     water_gdf_i = geopandas.read_file(water_file_list[i])\n",
    "#     #water_gdf_i = water_gdf_i[water_gdf_i['AWATER'] >= water_area_tol]\n",
    "#     water_gdf = pandas.concat((water_gdf, water_gdf_i), axis=0, sort=False)\n",
    "\n",
    "# water_gdf = water_gdf.set_index('HYDROID')\n",
    "# e = time.time()\n",
    "# g = g + (e-s)\n",
    "\n",
    "# if (debug >= 1):\n",
    "#     #print('Read {0:,.0f} bodies of water with area greater than or equal to {1:,.0f} km^2 in {2:,.0f} seconds!'.format(len(water_gdf), water_area_tol/(1000*1000), e-s))\n",
    "#     print('Read {0:,.0f} bodies of water in {1:,.0f} seconds!'.format(len(water_gdf), e-s))\n"
   ]
  },
  {
   "cell_type": "markdown",
   "metadata": {},
   "source": [
    "#### Read places"
   ]
  },
  {
   "cell_type": "code",
   "execution_count": null,
   "metadata": {},
   "outputs": [],
   "source": [
    "# s = time.time()\n",
    "\n",
    "# this_state = 'ID'\n",
    "# #print(state_codes_df)\n",
    "\n",
    "# if (debug >= 1):\n",
    "#     print('reading place shapefiles in {0:}...'.format(this_state))\n",
    "\n",
    "# #this_state_number = state_codes_df[state_codes_df['STUSAB'] == this_state.upper()].index.values[0]\n",
    "# this_state_number = 16\n",
    "\n",
    "# place_gdf = geopandas.GeoDataFrame()\n",
    "# place_file_list = [shapefiledir+'PLACE/'+x for x in os.listdir(shapefiledir+'PLACE/') if ((x[-4:] == '.shp') and ('tl_2018_{0:02d}'.format(this_state_number) in x))]\n",
    "\n",
    "# for i in range(0, len(place_file_list)):\n",
    "#     if (debug >= 1):\n",
    "#         if ((np.mod(i,10) == 0) | (i == len(water_file_list)-1)):\n",
    "#             print('\\tReading file {0:,.0f} of {1:,.0f}...'.format(i+1, len(place_file_list)))\n",
    "#     place_gdf_i = geopandas.read_file(place_file_list[i])\n",
    "    \n",
    "#     place_gdf = pandas.concat((place_gdf, place_gdf_i), axis=0, sort=False)\n",
    "\n",
    "# place_gdf = place_gdf.set_index('GEOID')\n",
    "# e = time.time()\n",
    "# g = g + (e-s)\n",
    "\n",
    "# if (debug >= 1):\n",
    "#     #print('Read {0:,.0f} bodies of water with area greater than or equal to {1:,.0f} km^2 in {2:,.0f} seconds!'.format(len(water_gdf), water_area_tol/(1000*1000), e-s))\n",
    "#     print('Read {0:,.0f} places in {1:,.1f} seconds!'.format(len(water_gdf), e-s))\n",
    "# #place_gdf.head(1)"
   ]
  },
  {
   "cell_type": "markdown",
   "metadata": {},
   "source": [
    "#### Overview"
   ]
  },
  {
   "cell_type": "code",
   "execution_count": null,
   "metadata": {},
   "outputs": [],
   "source": [
    "# print('getting from again-backup...')\n",
    "# assembler_gdf = assembler_gdf_bk2\n",
    "\n",
    "# this_state = 'ID'\n",
    "# fig, ax = plt.subplots(1,1,figsize=(12*scale,8*scale))\n",
    "\n",
    "# cd_gdf[(cd_gdf['STUSAB'] == this_state) & (cd_gdf['CD116FP'] == 1)].plot(ax=ax, color='red')\n",
    "# cd_gdf[(cd_gdf['STUSAB'] == this_state) & (cd_gdf['CD116FP'] == 2)].plot(ax=ax, color='green')\n",
    "\n",
    "# assembler_gdf[(assembler_gdf['STUSAB'] == this_state) & (assembler_gdf['nDistricts'] == 1)].plot(ax=ax, color='none', edgecolor='yellow', linewidth=0.5)\n",
    "# assembler_gdf[(assembler_gdf['STUSAB'] == this_state) & (assembler_gdf['nDistricts'] > 1)].plot(ax=ax, color='none', edgecolor='black', linewidth=2)\n",
    "\n",
    "# water_gdf.plot(ax=ax, color='blue')\n",
    "# plt.show()\n"
   ]
  },
  {
   "cell_type": "markdown",
   "metadata": {},
   "source": [
    "#### Block groups that overlap multiple districts"
   ]
  },
  {
   "cell_type": "code",
   "execution_count": null,
   "metadata": {
    "scrolled": false
   },
   "outputs": [],
   "source": [
    "# print('getting from again-backup...')\n",
    "# assembler_gdf = assembler_gdf_bk2\n",
    "\n",
    "# print('calculating block group areas...')\n",
    "# equal_area_crs = {'init': 'epsg:2163'}  # An equal area projection: https://epsg.io/2163\n",
    "# assembler_gdf = assembler_gdf.assign(area_km2 = assembler_gdf.to_crs(equal_area_crs).geometry.area/1000000)\n",
    "\n",
    "# this_state = 'ID'\n",
    "# fig, ax = plt.subplots(1,1,figsize=(24*scale,16*scale))\n",
    "\n",
    "# cd_gdf[(cd_gdf['STUSAB'] == this_state) & (cd_gdf['CD116FP'] == 1)].plot(ax=ax, color='red', alpha=0.5)\n",
    "# cd_gdf[(cd_gdf['STUSAB'] == this_state) & (cd_gdf['CD116FP'] == 2)].plot(ax=ax, color='green', alpha=0.5)\n",
    "\n",
    "\n",
    "# assembler_gdf[\n",
    "#     (assembler_gdf['STUSAB'] == this_state) \n",
    "#     #& (assembler_gdf['nDistricts'] > 1)\n",
    "#     & (assembler_gdf['COUNTY_NAME'] == 'Ada County')\n",
    "# ].plot(ax=ax, color='none', edgecolor='yellow', linewidth=0.5)\n",
    "\n",
    "# assembler_gdf[(assembler_gdf['STUSAB'] == this_state) & (assembler_gdf['nDistricts'] > 1)].plot(ax=ax, color='none', edgecolor='black', linewidth=4)\n",
    "\n",
    "# # # # add labels for those block groups\n",
    "# for ix, thisrow in assembler_gdf[\n",
    "#     (assembler_gdf['STUSAB'] == this_state) \n",
    "#     & (assembler_gdf['nDistricts'] > 1) \n",
    "# #    & (assembler_gdf['total_population'] > 0)\n",
    "# ].iterrows():\n",
    "#     annotator = ix[-4:]\n",
    "# #     annotator += '\\n'\n",
    "#     #annotator = thisrow['Geography Name'].replace(',',\"\\n\")\n",
    "#     #annotator = thisrow['block_based_district']\n",
    "\n",
    "#     plt.annotate(annotator, \n",
    "#                  (thisrow.geometry.centroid.x, thisrow.geometry.centroid.y), \n",
    "#                  (thisrow.geometry.centroid.x, thisrow.geometry.centroid.y), \n",
    "#                  color='black', backgroundcolor='white', fontsize=12*scale, ha='center'\n",
    "#                 )\n",
    "\n",
    "# print('plotting places...')\n",
    "\n",
    "# place_gdf[place_gdf['NAME'] == 'Boise City'].plot(ax=ax, color='none', edgecolor='purple', linewidth=2)\n",
    "\n",
    "# # for ix, thisrow in place_gdf[place_gdf['NAME'] == 'Boise City'].iterrows():\n",
    "# #     annotator = thisrow['NAME'].upper()\n",
    "# #     plt.annotate(annotator, \n",
    "# #                  (thisrow.geometry.centroid.x, thisrow.geometry.centroid.y), \n",
    "# #                  (thisrow.geometry.centroid.x, thisrow.geometry.centroid.y), \n",
    "# #                  color='purple', backgroundcolor='white', fontsize=14*scale, ha='center'\n",
    "# #                 )\n",
    "    \n",
    "    \n",
    "# # print('plotting water...')\n",
    "# # water_gdf.plot(ax=ax, color='blue')\n",
    "\n",
    "# # # # Ada County\n",
    "# # plt.xlim([-116.6, -115.9])\n",
    "# # plt.ylim([43.05, 43.75])\n",
    "\n",
    "# # Just the big one\n",
    "# # plt.xlim([-116.2, -116.05])\n",
    "# # plt.ylim([43.5, 43.6])\n",
    "\n",
    "# #All except the big one\n",
    "# plt.xlim([-116.35, -116.1])\n",
    "# plt.ylim([43.52, 43.72])\n",
    "\n",
    "\n",
    "# # closeup of all 7 overlapping districts\n",
    "# # plt.xlim([-116.36, -115.94])\n",
    "# # plt.ylim([43.1,43.75])\n",
    "\n",
    "# plt.show()\n",
    "\n",
    "# assembler_gdf[\n",
    "#     (assembler_gdf['STUSAB'] == this_state) \n",
    "#     & (assembler_gdf['nDistricts'] > 1)\n",
    "# ][\n",
    "#     ['STATE_NAME', 'COUNTY_NAME', 'TRACTCE', 'BLKGRPCE', 'area_km2', 'total_population']\n",
    "# ].sort_values('area_km2', ascending=False)\n",
    "\n",
    "\n"
   ]
  },
  {
   "cell_type": "code",
   "execution_count": null,
   "metadata": {},
   "outputs": [],
   "source": [
    "\n"
   ]
  },
  {
   "cell_type": "code",
   "execution_count": null,
   "metadata": {},
   "outputs": [],
   "source": []
  },
  {
   "cell_type": "code",
   "execution_count": null,
   "metadata": {},
   "outputs": [],
   "source": []
  },
  {
   "cell_type": "code",
   "execution_count": null,
   "metadata": {},
   "outputs": [],
   "source": []
  },
  {
   "cell_type": "code",
   "execution_count": null,
   "metadata": {},
   "outputs": [],
   "source": []
  }
 ],
 "metadata": {
  "kernelspec": {
   "display_name": "Python 3.7 (py37)",
   "language": "python",
   "name": "py37"
  },
  "language_info": {
   "codemirror_mode": {
    "name": "ipython",
    "version": 3
   },
   "file_extension": ".py",
   "mimetype": "text/x-python",
   "name": "python",
   "nbconvert_exporter": "python",
   "pygments_lexer": "ipython3",
   "version": "3.7.4"
  }
 },
 "nbformat": 4,
 "nbformat_minor": 4
}
